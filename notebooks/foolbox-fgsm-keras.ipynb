{
 "cells": [
  {
   "cell_type": "markdown",
   "metadata": {},
   "source": [
    "# FoolboxをつかったAdversarial Examples"
   ]
  },
  {
   "cell_type": "code",
   "execution_count": 1,
   "metadata": {},
   "outputs": [
    {
     "name": "stderr",
     "output_type": "stream",
     "text": [
      "Using TensorFlow backend.\n"
     ]
    }
   ],
   "source": [
    "import numpy as np\n",
    "import matplotlib.pyplot as plt\n",
    "from pathlib import Path\n",
    "from collections import OrderedDict\n",
    "\n",
    "import tensorflow as tf\n",
    "from tensorflow import keras\n",
    "from tensorflow.keras.datasets import mnist\n",
    "from tensorflow.keras.models import load_model\n",
    "from tensorflow.keras.callbacks import TensorBoard\n",
    "from tensorflow.keras.utils import to_categorical\n",
    "\n",
    "import sys\n",
    "import os\n",
    "sys.path.append('../libs')\n",
    "import model_zoo as zoo\n",
    "import measure"
   ]
  },
  {
   "cell_type": "code",
   "execution_count": 2,
   "metadata": {},
   "outputs": [],
   "source": [
    "import foolbox\n",
    "from foolbox.models import KerasModel\n",
    "from foolbox.attacks import LBFGSAttack, FGSM, CarliniWagnerL2Attack, DeepFoolAttack, SaliencyMapAttack"
   ]
  },
  {
   "cell_type": "code",
   "execution_count": 3,
   "metadata": {},
   "outputs": [],
   "source": [
    "(x_train, y_train), (x_test, y_test) = mnist.load_data()\n",
    "x_train = x_train.reshape(-1, 28, 28, 1) / 255.\n",
    "x_test = x_test.reshape(-1, 28, 28, 1) / 255."
   ]
  },
  {
   "cell_type": "code",
   "execution_count": 4,
   "metadata": {},
   "outputs": [
    {
     "name": "stdout",
     "output_type": "stream",
     "text": [
      "WARNING:tensorflow:From /home/takubuntu/anaconda3/envs/py36/lib/python3.6/site-packages/tensorflow/python/ops/resource_variable_ops.py:435: colocate_with (from tensorflow.python.framework.ops) is deprecated and will be removed in a future version.\n",
      "Instructions for updating:\n",
      "Colocations handled automatically by placer.\n"
     ]
    }
   ],
   "source": [
    "# 攻撃対象のCNNの保存先 or 読み込み先\n",
    "model_path = Path(\"..\", \"model_dir\")\n",
    "model_path.mkdir(exist_ok=True)\n",
    "model_path /= \"target_cnn.h5\"\n",
    "\n",
    "# 学習済みのCNNがあればロード、なければ作成\n",
    "if model_path.exists():\n",
    "    model = load_model(str(model_path))\n",
    "else:\n",
    "    log_dir = Path('..', 'logs', 'cnn')\n",
    "    model = zoo.CNN(input_shape=(28, 28, 1)) # MNIST用\n",
    "    tb = TensorBoard(log_dir=str(log_dir))\n",
    "    model.compile(optimizer=\"Adam\", loss=\"sparse_categorical_crossentropy\", metrics=[\"acc\"])\n",
    "    model.fit(x=x_train, y=y_train, epochs=5, validation_data=(x_test, y_test), callbacks=[tb])\n",
    "    model.save(str(model_path))"
   ]
  },
  {
   "cell_type": "markdown",
   "metadata": {},
   "source": [
    "# ここから攻撃"
   ]
  },
  {
   "cell_type": "code",
   "execution_count": 5,
   "metadata": {},
   "outputs": [],
   "source": [
    "# 攻撃対象のモデルをfmodelとしてラップ\n",
    "fmodel = foolbox.models.TensorFlowModel.from_keras(model, bounds=(0, 1))\n",
    "# 誤認識させることを評価基準とする\n",
    "attack_criterion = foolbox.criteria.Misclassification()\n",
    "\n",
    "# Adversarial Examplesの攻撃手法\n",
    "fgsm = FGSM(fmodel, criterion=attack_criterion)\n",
    "saliency = SaliencyMapAttack(fmodel, criterion=attack_criterion)\n",
    "contrast = foolbox.attacks.ContrastReductionAttack(fmodel, criterion=attack_criterion)\n",
    "\n",
    "attack_dict = OrderedDict((name, eval(name)) for name in ['fgsm', 'saliency', 'contrast'])"
   ]
  },
  {
   "cell_type": "markdown",
   "metadata": {},
   "source": [
    "## idxの画像に対して上のセルで定義したattacks.[メソッド]を適用"
   ]
  },
  {
   "cell_type": "code",
   "execution_count": 11,
   "metadata": {},
   "outputs": [
    {
     "data": {
      "image/png": "[encoded data removed]",
      "text/plain": [
       "<Figure size 864x3456 with 4 Axes>"
      ]
     },
     "metadata": {
      "needs_background": "light"
     },
     "output_type": "display_data"
    }
   ],
   "source": [
    "idx = 0\n",
    "fig = plt.figure(figsize=(12, 48))\n",
    "\n",
    "plt.subplot(1, 4, 1)\n",
    "plt.imshow(np.squeeze(np.squeeze(x_test[idx])), cmap='gray')\n",
    "plt.title(f\"Original\\n{np.argmax(model.predict(x_test[idx].reshape(-1, 28, 28, 1)))}\", fontsize=20) # 通常画像の結果\n",
    "plt.axis('off')\n",
    "    \n",
    "for i, (name, module) in enumerate(attack_dict.items()):\n",
    "    x_adv = module(input_or_adv=x_test[idx], label=y_test[idx], unpack=False)\n",
    "    plt.subplot(1, 4, i+1 + 1)\n",
    "    plt.imshow(np.squeeze(x_adv.image), cmap='gray')\n",
    "    p = measure.NpMetrics.psnr(x_test[idx], x_adv.image, 1)\n",
    "    d = measure.NpMetrics.distortion(x_test[idx], x_adv.image)\n",
    "    plt.title(f\"{name}\\n{np.argmax(model.predict(x_adv.image.reshape(-1, 28, 28, 1)))}\\nPSNR: {p.round(3)}\\nDistortion: {d.round(3)}\", fontsize=15)\n",
    "    plt.axis('off')\n",
    "plt.tight_layout()"
   ]
  },
  {
   "cell_type": "code",
   "execution_count": null,
   "metadata": {},
   "outputs": [],
   "source": []
  }
 ],
 "metadata": {
  "kernelspec": {
   "display_name": "Python 3",
   "language": "python",
   "name": "python3"
  },
  "language_info": {
   "codemirror_mode": {
    "name": "ipython",
    "version": 3
   },
   "file_extension": ".py",
   "mimetype": "text/x-python",
   "name": "python",
   "nbconvert_exporter": "python",
   "pygments_lexer": "ipython3",
   "version": "3.6.8"
  }
 },
 "nbformat": 4,
 "nbformat_minor": 2
}
