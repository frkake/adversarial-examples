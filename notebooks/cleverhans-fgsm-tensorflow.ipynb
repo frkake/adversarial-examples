{
 "cells": [
  {
   "cell_type": "markdown",
   "metadata": {},
   "source": [
    "GitHubのソースからcleverhansのライブラリをpipビルドしてください。  \n",
    "```terminal:\n",
    "git clone https://github.com/tensorflow/cleverhans\n",
    "cd cleverhans\n",
    "pip install -e .\n",
    "```"
   ]
  },
  {
   "cell_type": "code",
   "execution_count": 1,
   "metadata": {},
   "outputs": [
    {
     "name": "stderr",
     "output_type": "stream",
     "text": [
      "Using TensorFlow backend.\n"
     ]
    }
   ],
   "source": [
    "from __future__ import absolute_import\n",
    "from __future__ import division\n",
    "from __future__ import print_function\n",
    "from __future__ import unicode_literals\n",
    "\n",
    "import logging\n",
    "import numpy as np\n",
    "import tensorflow as tf\n",
    "\n",
    "from cleverhans.loss import CrossEntropy\n",
    "from cleverhans.utils_tf import model_eval\n",
    "from cleverhans.train import train\n",
    "from cleverhans.attacks import FastGradientMethod\n",
    "from cleverhans.utils import AccuracyReport, set_log_level\n",
    "from cleverhans.model_zoo.basic_cnn import ModelBasicCNN\n",
    "\n",
    "from keras.datasets import mnist\n",
    "import matplotlib.pyplot as plt\n",
    "plt.ion()"
   ]
  },
  {
   "cell_type": "code",
   "execution_count": 2,
   "metadata": {
    "collapsed": true
   },
   "outputs": [],
   "source": [
    "nb_epochs = 10\n",
    "batch_size = 32\n",
    "learning_rate = 0.01"
   ]
  },
  {
   "cell_type": "code",
   "execution_count": 3,
   "metadata": {
    "collapsed": true
   },
   "outputs": [],
   "source": [
    "report = AccuracyReport() # クリーン画像の精度やAdversarial Examplesの精度などをまとめるためのクラス\n",
    "tf.set_random_seed(1234)\n",
    "sess = tf.InteractiveSession()"
   ]
  },
  {
   "cell_type": "code",
   "execution_count": 4,
   "metadata": {},
   "outputs": [],
   "source": [
    "# 前処理\n",
    "(x_train, y_train), (x_test, y_test) = mnist.load_data()\n",
    "x_train = x_train.reshape(-1, 28, 28, 1).astype('float32') / 255.\n",
    "x_test = x_test.reshape(-1, 28, 28, 1).astype('float32') / 255.\n",
    "y_train = tf.keras.utils.to_categorical(y_train, 10)\n",
    "y_test = tf.keras.utils.to_categorical(y_test, 10)"
   ]
  },
  {
   "cell_type": "markdown",
   "metadata": {},
   "source": [
    "### MNISTの画像shapeを設定する"
   ]
  },
  {
   "cell_type": "code",
   "execution_count": 6,
   "metadata": {},
   "outputs": [],
   "source": [
    "img_rows, img_cols, nchannels = x_train.shape[1:4] # (28, 28, 1)\n",
    "nb_classes = y_train.shape[1] # 10"
   ]
  },
  {
   "cell_type": "markdown",
   "metadata": {},
   "source": [
    "### 画像と正解ラベルを入力するプレースホルダーを設定"
   ]
  },
  {
   "cell_type": "code",
   "execution_count": 7,
   "metadata": {},
   "outputs": [],
   "source": [
    "x = tf.placeholder(tf.float32, shape=(None, img_rows, img_cols, nchannels))\n",
    "y = tf.placeholder(tf.float32, shape=(None, nb_classes))"
   ]
  },
  {
   "cell_type": "code",
   "execution_count": 8,
   "metadata": {
    "collapsed": true
   },
   "outputs": [],
   "source": [
    "# 各学習パラメータ、攻撃パラメータを設定\n",
    "train_params = {\n",
    "      'nb_epochs': nb_epochs,\n",
    "      'batch_size': batch_size,\n",
    "      'learning_rate': learning_rate\n",
    "  }\n",
    "eval_params = {'batch_size': batch_size}\n",
    "fgsm_params = {\n",
    "  'eps': 0.3,\n",
    "  'clip_min': 0.,\n",
    "  'clip_max': 1.\n",
    "}\n",
    "rng = np.random.RandomState([2017, 8, 30])"
   ]
  },
  {
   "cell_type": "code",
   "execution_count": 8,
   "metadata": {},
   "outputs": [],
   "source": [
    "model = ModelBasicCNN('model1', nb_classes=10, nb_filters=32) # 攻撃対象のCNN\n",
    "preds = model.get_logits(x) # Softmax前の値\n",
    "loss = CrossEntropy(model, smoothing=0.1) # 内部でsoftmax_cross_entropy_with_logits演算が行われてCrossEntropy Lossが出てくる"
   ]
  },
  {
   "cell_type": "markdown",
   "metadata": {},
   "source": [
    "**ModelBasicCNNの解説**  \n",
    "ModelBasicCNNの構造は  \n",
    "x = Conv2D(32, 8, strides=2, padding='same', activation='relu', kernel_initializer='he_normal')(x)  \n",
    "x = Conv2D(64, 6, strides=2, padding='same', activation='relu', kernel_initializer='he_normal')(x)  \n",
    "x = Conv2D(64, 5, strides=1, padding='same', activation='relu', kernel_initializer='he_normal')(x)  \n",
    "x = Flatten()(x)  \n",
    "logits = Dense(10, kernel_initializer='he_normal')(x)  \n",
    "の構造とほぼかわらないが、返り値が  \n",
    "return {self.O_LOGITS: logits, self.O_PROBS: tf.nnsoftmax(logits=logits)}  \n",
    "となっていて、softmax前の値とsoftmax後の値の２つを返すようになっている。  "
   ]
  },
  {
   "cell_type": "code",
   "execution_count": 9,
   "metadata": {
    "collapsed": true
   },
   "outputs": [],
   "source": [
    "def do_eval(preds, x_set, y_set, report_key, is_adv=None):\n",
    "    '''\n",
    "    x_setとy_setのペアを与えられたときの正解率を出力する関数。\n",
    "    preds: logitsのテンソルノード\n",
    "    report_key: AccuracyReportのメンバ変数の名前のいずれか。(ex. \"clean_train_clean_eval\", \"clean_train_adv_eval\" etc)\n",
    "    is_adv: predsのノードがAdversarial Examplesを生成する経路を通って来るノードであった場合True、クリーン画像の評価であればFalse\n",
    "            出力のテキストに\"adversarial\"か\"legitimate\"と出力されるかを決めるだけなのでそれほど重要な引数ではない。\n",
    "            （わかりにくいと思うので）TureのときはAdversairal Examplesの評価をしてます。ってことを伝えるときってことです。\n",
    "    '''\n",
    "    acc = model_eval(sess, x, y, preds, x_set, y_set, args=eval_params)\n",
    "    setattr(report, report_key, acc)\n",
    "    if is_adv is None:\n",
    "        report_text = None\n",
    "    elif is_adv:\n",
    "        report_text = 'adversarial'\n",
    "    else:\n",
    "        report_text = 'legitimate'\n",
    "    if report_text:\n",
    "        print('Test accuracy on %s examples: %0.4f' % (report_text, acc))"
   ]
  },
  {
   "cell_type": "code",
   "execution_count": 10,
   "metadata": {
    "collapsed": true
   },
   "outputs": [],
   "source": [
    "def evaluate():\n",
    "    '''\n",
    "    do_evalの特殊ケースをわざわざ関数化している。\n",
    "    普通にクリーン画像で学習して、クリーン画像でテストします。っていうときの関数です。\n",
    "    '''\n",
    "    do_eval(preds, x_test, y_test, 'clean_train_clean_eval', False)"
   ]
  },
  {
   "cell_type": "markdown",
   "metadata": {},
   "source": [
    "### 単純な訓練（通常画像で訓練して、通常画像でテストする）"
   ]
  },
  {
   "cell_type": "markdown",
   "metadata": {},
   "source": [
    "学習をする。train()は、sessのグラフを使ってlossを最小にするように動作する。  \n",
    "学習パラメータは `var_list=model.get_params()` で与える。"
   ]
  },
  {
   "cell_type": "code",
   "execution_count": 11,
   "metadata": {},
   "outputs": [
    {
     "name": "stdout",
     "output_type": "stream",
     "text": [
      "num_devices:  2\n"
     ]
    },
    {
     "name": "stderr",
     "output_type": "stream",
     "text": [
      "[INFO 2019-05-30 11:30:24,812 cleverhans] Epoch 0 took 5.482137203216553 seconds\n"
     ]
    },
    {
     "name": "stdout",
     "output_type": "stream",
     "text": [
      "Test accuracy on legitimate examples: 0.9746\n"
     ]
    },
    {
     "name": "stderr",
     "output_type": "stream",
     "text": [
      "[INFO 2019-05-30 11:30:29,025 cleverhans] Epoch 1 took 3.87585186958313 seconds\n"
     ]
    },
    {
     "name": "stdout",
     "output_type": "stream",
     "text": [
      "Test accuracy on legitimate examples: 0.9757\n"
     ]
    },
    {
     "name": "stderr",
     "output_type": "stream",
     "text": [
      "[INFO 2019-05-30 11:30:33,210 cleverhans] Epoch 2 took 3.8756208419799805 seconds\n"
     ]
    },
    {
     "name": "stdout",
     "output_type": "stream",
     "text": [
      "Test accuracy on legitimate examples: 0.9826\n"
     ]
    },
    {
     "name": "stderr",
     "output_type": "stream",
     "text": [
      "[INFO 2019-05-30 11:30:37,391 cleverhans] Epoch 3 took 3.8840878009796143 seconds\n"
     ]
    },
    {
     "name": "stdout",
     "output_type": "stream",
     "text": [
      "Test accuracy on legitimate examples: 0.9799\n"
     ]
    },
    {
     "name": "stderr",
     "output_type": "stream",
     "text": [
      "[INFO 2019-05-30 11:30:41,570 cleverhans] Epoch 4 took 3.873317003250122 seconds\n"
     ]
    },
    {
     "name": "stdout",
     "output_type": "stream",
     "text": [
      "Test accuracy on legitimate examples: 0.9822\n"
     ]
    },
    {
     "name": "stderr",
     "output_type": "stream",
     "text": [
      "[INFO 2019-05-30 11:30:45,752 cleverhans] Epoch 5 took 3.8773865699768066 seconds\n"
     ]
    },
    {
     "name": "stdout",
     "output_type": "stream",
     "text": [
      "Test accuracy on legitimate examples: 0.9821\n"
     ]
    },
    {
     "name": "stderr",
     "output_type": "stream",
     "text": [
      "[INFO 2019-05-30 11:30:49,924 cleverhans] Epoch 6 took 3.86268949508667 seconds\n"
     ]
    },
    {
     "name": "stdout",
     "output_type": "stream",
     "text": [
      "Test accuracy on legitimate examples: 0.9808\n"
     ]
    },
    {
     "name": "stderr",
     "output_type": "stream",
     "text": [
      "[INFO 2019-05-30 11:30:54,098 cleverhans] Epoch 7 took 3.87605357170105 seconds\n"
     ]
    },
    {
     "name": "stdout",
     "output_type": "stream",
     "text": [
      "Test accuracy on legitimate examples: 0.9803\n"
     ]
    },
    {
     "name": "stderr",
     "output_type": "stream",
     "text": [
      "[INFO 2019-05-30 11:30:58,271 cleverhans] Epoch 8 took 3.869502067565918 seconds\n"
     ]
    },
    {
     "name": "stdout",
     "output_type": "stream",
     "text": [
      "Test accuracy on legitimate examples: 0.9788\n"
     ]
    },
    {
     "name": "stderr",
     "output_type": "stream",
     "text": [
      "[INFO 2019-05-30 11:31:02,442 cleverhans] Epoch 9 took 3.866840124130249 seconds\n"
     ]
    },
    {
     "name": "stdout",
     "output_type": "stream",
     "text": [
      "Test accuracy on legitimate examples: 0.9763\n"
     ]
    },
    {
     "data": {
      "text/plain": [
       "True"
      ]
     },
     "execution_count": 11,
     "metadata": {},
     "output_type": "execute_result"
    }
   ],
   "source": [
    "train(sess, loss, x_train, y_train, evaluate=evaluate, args=train_params, rng=rng, var_list=model.get_params())"
   ]
  },
  {
   "cell_type": "markdown",
   "metadata": {},
   "source": [
    "### 今学習させた通常の学習済みモデルに対してFGSMでAdversarial Exsamplesを作成した場合の正解率を計算する"
   ]
  },
  {
   "cell_type": "code",
   "execution_count": 13,
   "metadata": {},
   "outputs": [
    {
     "name": "stderr",
     "output_type": "stream",
     "text": [
      "/home/takubuntu/setting_ws/cleverhans/cleverhans/attacks_tf.py:27: UserWarning: attacks_tf is deprecated and will be removed on 2019-07-18 or after. Code should import functions from their new locations directly.\n",
      "  warnings.warn(\"attacks_tf is deprecated and will be removed on 2019-07-18\"\n",
      "/home/takubuntu/setting_ws/cleverhans/cleverhans/compat.py:22: UserWarning: <function reduce_max at 0x7f7054d7e488> is deprecated. Switch to calling the equivalent function in tensorflow.  This function was originally needed as a compatibility layer for old versions of tensorflow,  but support for those versions has now been dropped.\n",
      "  warnings.warn(str(f) + \" is deprecated. Switch to calling the equivalent function in tensorflow. \"\n",
      "/home/takubuntu/setting_ws/cleverhans/cleverhans/compat.py:22: UserWarning: <function reduce_sum at 0x7f7054d7abf8> is deprecated. Switch to calling the equivalent function in tensorflow.  This function was originally needed as a compatibility layer for old versions of tensorflow,  but support for those versions has now been dropped.\n",
      "  warnings.warn(str(f) + \" is deprecated. Switch to calling the equivalent function in tensorflow. \"\n"
     ]
    },
    {
     "name": "stdout",
     "output_type": "stream",
     "text": [
      "Test accuracy on adversarial examples: 0.1551\n"
     ]
    }
   ],
   "source": [
    "fgsm = FastGradientMethod(model, sess=sess)\n",
    "adv_x = fgsm.generate(x, **fgsm_params) # Adversarial Imageのテンソルノード\n",
    "preds_adv = model.get_logits(adv_x)\n",
    "preds_adv = tf.stop_gradient(preds_adv)\n",
    "\n",
    "# Evaluate the accuracy of the MNIST model on adversarial examples\n",
    "do_eval(preds_adv, x_test, y_test, 'clean_train_adv_eval', True)"
   ]
  },
  {
   "cell_type": "markdown",
   "metadata": {},
   "source": [
    "### 実際にそのAdversarial Examplesを出力してみる"
   ]
  },
  {
   "cell_type": "code",
   "execution_count": 13,
   "metadata": {},
   "outputs": [],
   "source": [
    "advImg = sess.run(adv_x, feed_dict={x: x_test, y: y_test})"
   ]
  },
  {
   "cell_type": "code",
   "execution_count": 14,
   "metadata": {},
   "outputs": [
    {
     "data": {
      "image/png": "[encoded data removed]",
      "text/plain": [
       "<Figure size 720x360 with 8 Axes>"
      ]
     },
     "metadata": {},
     "output_type": "display_data"
    }
   ],
   "source": [
    "testCleanImg = x_test[:4].reshape(-1, 28, 28, 1)\n",
    "testAdvImg = advImg[:4].reshape(-1, 28, 28, 1)\n",
    "cls_c = np.argmax(sess.run(preds, feed_dict={x: testCleanImg}), axis=-1)\n",
    "cls_a = np.argmax(sess.run(preds_adv, feed_dict={x: testAdvImg}), axis=-1)\n",
    "\n",
    "fig = plt.figure(figsize=(10, 5))\n",
    "for i, (ci, ai, cc, ca) in enumerate(zip(testCleanImg, testAdvImg, cls_c, cls_a)):\n",
    "    plt.subplot(2, 4, 2*i + 1)\n",
    "    plt.imshow(np.squeeze(ci), cmap='gray')\n",
    "    plt.title(cc, fontsize=20)\n",
    "    plt.axis('off')\n",
    "    plt.subplot(2, 4, 2*i + 2)\n",
    "    plt.imshow(np.squeeze(ai), cmap='gray')\n",
    "    plt.title(ca, fontsize=20)\n",
    "    plt.axis('off')\n",
    "plt.tight_layout()"
   ]
  },
  {
   "cell_type": "code",
   "execution_count": null,
   "metadata": {
    "collapsed": true
   },
   "outputs": [],
   "source": []
  }
 ],
 "metadata": {
  "kernelspec": {
   "display_name": "Python 3",
   "language": "python",
   "name": "python3"
  },
  "language_info": {
   "codemirror_mode": {
    "name": "ipython",
    "version": 3
   },
   "file_extension": ".py",
   "mimetype": "text/x-python",
   "name": "python",
   "nbconvert_exporter": "python",
   "pygments_lexer": "ipython3",
   "version": "3.6.7"
  }
 },
 "nbformat": 4,
 "nbformat_minor": 2
}
