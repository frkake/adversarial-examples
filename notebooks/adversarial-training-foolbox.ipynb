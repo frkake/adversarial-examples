{
 "cells": [
  {
   "cell_type": "code",
   "execution_count": 1,
   "metadata": {},
   "outputs": [
    {
     "name": "stderr",
     "output_type": "stream",
     "text": [
      "Using TensorFlow backend.\n"
     ]
    }
   ],
   "source": [
    "import numpy as np\n",
    "import matplotlib.pyplot as plt\n",
    "from pathlib import Path\n",
    "from collections import OrderedDict\n",
    "\n",
    "import tensorflow as tf\n",
    "from tensorflow import keras\n",
    "from tensorflow.keras.datasets import mnist\n",
    "from tensorflow.keras.models import load_model\n",
    "from tensorflow.keras.callbacks import TensorBoard\n",
    "from tensorflow.keras.utils import to_categorical\n",
    "\n",
    "import sys\n",
    "import os\n",
    "sys.path.append('../libs')\n",
    "import model_zoo as zoo\n",
    "import measure\n",
    "from adversarial import AdvTraining\n",
    "\n",
    "import foolbox\n",
    "from foolbox.models import KerasModel\n",
    "from foolbox.attacks import LBFGSAttack, FGSM, CarliniWagnerL2Attack, DeepFoolAttack, SaliencyMapAttack"
   ]
  },
  {
   "cell_type": "code",
   "execution_count": 2,
   "metadata": {},
   "outputs": [],
   "source": [
    "(x_train, y_train), (x_test, y_test) = mnist.load_data()\n",
    "x_train = x_train.reshape(-1, 28, 28, 1) / 255.\n",
    "x_test = x_test.reshape(-1, 28, 28, 1) / 255."
   ]
  },
  {
   "cell_type": "markdown",
   "metadata": {},
   "source": [
    "## Adversarial Training用の学習モデル"
   ]
  },
  {
   "cell_type": "code",
   "execution_count": 3,
   "metadata": {},
   "outputs": [
    {
     "name": "stdout",
     "output_type": "stream",
     "text": [
      "WARNING:tensorflow:From /home/takubuntu/anaconda3/envs/py36/lib/python3.6/site-packages/tensorflow/python/ops/resource_variable_ops.py:435: colocate_with (from tensorflow.python.framework.ops) is deprecated and will be removed in a future version.\n",
      "Instructions for updating:\n",
      "Colocations handled automatically by placer.\n"
     ]
    }
   ],
   "source": [
    "# 攻撃対象のCNNの保存先 or 読み込み先\n",
    "model_path = Path(\"..\", \"model_dir\")\n",
    "model_path.mkdir(exist_ok=True)\n",
    "model_path /= \"target_cnn.h5\"\n",
    "\n",
    "# 学習済みのCNNがあればロード、なければ作成\n",
    "if model_path.exists():\n",
    "    model = load_model(str(model_path))\n",
    "else:\n",
    "    log_dir = Path('..', 'logs', 'cnn')\n",
    "    model = zoo.CNN(input_shape=(28, 28, 1)) # MNIST用\n",
    "    tb = TensorBoard(log_dir=str(log_dir))\n",
    "    model.compile(optimizer=\"Adam\", loss=\"sparse_categorical_crossentropy\", metrics=[\"acc\"])\n",
    "    model.fit(x=x_train, y=y_train, epochs=5, validation_data=(x_test, y_test), callbacks=[tb])\n",
    "    model.save(str(model_path))"
   ]
  },
  {
   "cell_type": "markdown",
   "metadata": {},
   "source": [
    "## Adversarial Training"
   ]
  },
  {
   "cell_type": "code",
   "execution_count": 4,
   "metadata": {},
   "outputs": [
    {
     "name": "stdout",
     "output_type": "stream",
     "text": [
      "\n",
      "1 / 10 epochs\n",
      "Train on 60030 samples, validate on 10000 samples\n",
      " - 25s - loss: 0.0356 - acc: 0.9902 - val_loss: 0.0287 - val_acc: 0.9913\n",
      "\n",
      "2 / 10 epochs\n",
      "Train on 60058 samples, validate on 10000 samples\n",
      " - 25s - loss: 0.0148 - acc: 0.9958 - val_loss: 0.0339 - val_acc: 0.9914\n",
      "\n",
      "3 / 10 epochs\n",
      "Train on 60089 samples, validate on 10000 samples\n",
      " - 25s - loss: 0.0167 - acc: 0.9955 - val_loss: 0.0284 - val_acc: 0.9921\n",
      "\n",
      "4 / 10 epochs\n",
      "Train on 60120 samples, validate on 10000 samples\n",
      " - 25s - loss: 0.0122 - acc: 0.9963 - val_loss: 0.0338 - val_acc: 0.9917\n",
      "\n",
      "5 / 10 epochs\n",
      "Train on 60151 samples, validate on 10000 samples\n",
      " - 24s - loss: 0.0124 - acc: 0.9965 - val_loss: 0.0322 - val_acc: 0.9918\n",
      "\n",
      "6 / 10 epochs\n",
      "Train on 60182 samples, validate on 10000 samples\n",
      " - 24s - loss: 0.0111 - acc: 0.9969 - val_loss: 0.0270 - val_acc: 0.9928\n",
      "\n",
      "7 / 10 epochs\n",
      "Train on 60212 samples, validate on 10000 samples\n",
      " - 24s - loss: 0.0100 - acc: 0.9969 - val_loss: 0.0390 - val_acc: 0.9918\n",
      "\n",
      "8 / 10 epochs\n",
      "Train on 60241 samples, validate on 10000 samples\n",
      " - 25s - loss: 0.0090 - acc: 0.9972 - val_loss: 0.0459 - val_acc: 0.9906\n",
      "\n",
      "9 / 10 epochs\n",
      "Train on 60271 samples, validate on 10000 samples\n",
      " - 25s - loss: 0.0100 - acc: 0.9969 - val_loss: 0.0290 - val_acc: 0.9923\n",
      "\n",
      "10 / 10 epochs\n",
      "Train on 60302 samples, validate on 10000 samples\n",
      " - 25s - loss: 0.0095 - acc: 0.9972 - val_loss: 0.0448 - val_acc: 0.9913\n"
     ]
    }
   ],
   "source": [
    "import warnings\n",
    "warnings.filterwarnings('ignore')\n",
    "\n",
    "adv_tr = AdvTraining(model, foolbox.attacks.FGSM, foolbox.criteria.Misclassification())\n",
    "adv_tr.fit(x_train, y_train, epochs=10, validation_data=(x_test, y_test), batch_size=32, verbose=2)"
   ]
  },
  {
   "cell_type": "markdown",
   "metadata": {},
   "source": [
    "## Adversarial TrainingによってAdversarial Examplesの耐性がついたのか評価"
   ]
  },
  {
   "cell_type": "markdown",
   "metadata": {},
   "source": [
    "### もう一度modelをファイルから読み込み\n",
    "Adversarial Trainingを行うと上で読み込んだmodelまで一緒に学習されてしまっているので（おそらくポインタで渡されているため）、もう一度学習済みモデルから読み込む"
   ]
  },
  {
   "cell_type": "code",
   "execution_count": 5,
   "metadata": {},
   "outputs": [],
   "source": [
    "model = load_model(str(model_path))"
   ]
  },
  {
   "cell_type": "markdown",
   "metadata": {},
   "source": [
    "### 各結果"
   ]
  },
  {
   "cell_type": "code",
   "execution_count": 9,
   "metadata": {},
   "outputs": [
    {
     "name": "stdout",
     "output_type": "stream",
     "text": [
      "[Adversarial Training前]\n",
      "テストセット\n",
      "精度：99.13 % , 損失：0.031\n",
      "テストセットのAdversarial Examples\n",
      "精度：0.0 % , 損失：1.114\n",
      "\n",
      "[Adversarial Training後]\n",
      "テストセット\n",
      "精度：99.13 % , 損失：0.045\n",
      "テストセットのAdversarial Examples\n",
      "精度：89.748 % , 損失：0.463\n"
     ]
    }
   ],
   "source": [
    "advs = np.load('../data/adv_data.npz')\n",
    "\n",
    "print('[Adversarial Training前]')\n",
    "print(\"テストセット\")\n",
    "loss,acc = model.evaluate(x_test, y_test, verbose=0)\n",
    "print(f'精度：{np.round(acc*100, 3)} % , 損失：{loss.round(3)}')\n",
    "\n",
    "print('テストセットのAdversarial Examples')\n",
    "loss,acc = model.evaluate(advs['adv_img'], advs['orig_label'], verbose=0)\n",
    "print(f'精度：{np.round(acc*100, 3)} % , 損失：{loss.round(3)}')\n",
    "\n",
    "print('')\n",
    "\n",
    "print('[Adversarial Training後]')\n",
    "print('テストセット')\n",
    "loss,acc = adv_tr.kmodel.evaluate(x_test, y_test, verbose=0)\n",
    "print(f'精度：{np.round(acc*100, 3)} % , 損失：{loss.round(3)}')\n",
    "\n",
    "print('テストセットのAdversarial Examples')\n",
    "loss,acc = adv_tr.kmodel.evaluate(advs['adv_img'], advs['orig_label'], verbose=0)\n",
    "print(f'精度：{np.round(acc*100, 3)} % , 損失：{loss.round(3)}')"
   ]
  },
  {
   "cell_type": "code",
   "execution_count": null,
   "metadata": {},
   "outputs": [],
   "source": []
  },
  {
   "cell_type": "code",
   "execution_count": null,
   "metadata": {},
   "outputs": [],
   "source": []
  }
 ],
 "metadata": {
  "kernelspec": {
   "display_name": "Python 3",
   "language": "python",
   "name": "python3"
  },
  "language_info": {
   "codemirror_mode": {
    "name": "ipython",
    "version": 3
   },
   "file_extension": ".py",
   "mimetype": "text/x-python",
   "name": "python",
   "nbconvert_exporter": "python",
   "pygments_lexer": "ipython3",
   "version": "3.6.8"
  }
 },
 "nbformat": 4,
 "nbformat_minor": 2
}
