{
 "cells": [
  {
   "cell_type": "markdown",
   "metadata": {},
   "source": [
    "# デノイジングオートエンコーダを用いたAdversarial Examplesの防御"
   ]
  },
  {
   "cell_type": "code",
   "execution_count": 1,
   "metadata": {},
   "outputs": [
    {
     "name": "stderr",
     "output_type": "stream",
     "text": [
      "Using TensorFlow backend.\n"
     ]
    }
   ],
   "source": [
    "import tensorflow as tf\n",
    "from tensorflow import keras\n",
    "from tensorflow.keras.callbacks import TensorBoard\n",
    "import foolbox\n",
    "\n",
    "from pathlib import Path\n",
    "import numpy as np\n",
    "import matplotlib.pyplot as plt\n",
    "plt.ion()\n",
    "\n",
    "import sys\n",
    "sys.path.append('../libs')\n",
    "\n",
    "# 自作ライブラリ\n",
    "import model_zoo as zoo\n",
    "import measure"
   ]
  },
  {
   "cell_type": "markdown",
   "metadata": {},
   "source": [
    "## データセット"
   ]
  },
  {
   "cell_type": "code",
   "execution_count": 2,
   "metadata": {},
   "outputs": [],
   "source": [
    "def addnoise(x, loc=0.0, scale=0.2, minmax=(0.0, 1.0)):\n",
    "    noise = np.abs(np.random.normal(0.0, 0.2, x.shape))\n",
    "    x_noise = np.clip(x + noise, minmax[0], minmax[1])\n",
    "    \n",
    "    return x_noise"
   ]
  },
  {
   "cell_type": "markdown",
   "metadata": {},
   "source": [
    "### MNISTのロードとガウシアンノイズの付与"
   ]
  },
  {
   "cell_type": "code",
   "execution_count": 3,
   "metadata": {},
   "outputs": [],
   "source": [
    "(x_train, y_train), (x_test, y_test) = keras.datasets.mnist.load_data()\n",
    "x_train = np.expand_dims(x_train, axis=-1) / 255.\n",
    "x_test = np.expand_dims(x_test, axis=-1) / 255.\n",
    "\n",
    "x_train_noised, x_test_noised = addnoise(x_train), addnoise(x_test)"
   ]
  },
  {
   "cell_type": "markdown",
   "metadata": {},
   "source": [
    "## カスタム評価基準の定義(PSNRとSSIM)\n",
    "PSNRとSSIMは再構成誤差数値が高い方が良い。  \n",
    "PSNRの最高値は不定義だが、SSIMの最高値は1.0"
   ]
  },
  {
   "cell_type": "code",
   "execution_count": 4,
   "metadata": {},
   "outputs": [
    {
     "name": "stdout",
     "output_type": "stream",
     "text": [
      "WARNING:tensorflow:From /home/takubuntu/anaconda3/envs/py36/lib/python3.6/site-packages/tensorflow/python/ops/resource_variable_ops.py:435: colocate_with (from tensorflow.python.framework.ops) is deprecated and will be removed in a future version.\n",
      "Instructions for updating:\n",
      "Colocations handled automatically by placer.\n",
      "WARNING:tensorflow:From /home/takubuntu/anaconda3/envs/py36/lib/python3.6/site-packages/tensorflow/python/ops/math_ops.py:3066: to_int32 (from tensorflow.python.ops.math_ops) is deprecated and will be removed in a future version.\n",
      "Instructions for updating:\n",
      "Use tf.cast instead.\n",
      "10000/10000 [==============================] - 4s 384us/sample - loss: 2.0544 - mean_squared_error: 0.0014 - psnr: 28.8197 - ssim: 0.9835 - distortion: 0.0376\n"
     ]
    }
   ],
   "source": [
    "model_dir = Path(\"..\", \"model_dir\")\n",
    "model_dir.mkdir(exist_ok=True)\n",
    "dae_path = model_dir/\"ConvDAE.h5\"\n",
    "\n",
    "if dae_path.exists():\n",
    "    dae = keras.models.load_model(str(dae_path), custom_objects={\"psnr\": measure.TFMetrics.psnr, \"ssim\": measure.TFMetrics.ssim, 'distortion': measure.TFMetrics.distortion})\n",
    "    dae.evaluate(x_test_noised, x_test)\n",
    "else:\n",
    "    log_dir = Path(\"..\", \"logs\", \"dae\")\n",
    "    tb = TensorBoard(log_dir=str(log_dir))\n",
    "\n",
    "    dae = zoo.ConvDAE()\n",
    "    dae.compile(optimizer='Adam', loss='binary_crossentropy', metrics=['mse', measure.TFMetrics.psnr, measure.TFMetrics.ssim, measure.TFMetrics.distortion])\n",
    "    dae.fit(x=x_train_noised, y=x_train, epochs=10, validation_data=(x_test_noised, x_test), callbacks=[tb])\n",
    "    dae.save(str(dae_path))"
   ]
  },
  {
   "cell_type": "code",
   "execution_count": 7,
   "metadata": {},
   "outputs": [
    {
     "data": {
      "image/png": "[encoded data removed]",
      "text/plain": [
       "<Figure size 648x432 with 6 Axes>"
      ]
     },
     "metadata": {
      "needs_background": "light"
     },
     "output_type": "display_data"
    }
   ],
   "source": [
    "n_vis = 2\n",
    "\n",
    "recon_test = dae.predict(x_test_noised)\n",
    "\n",
    "fig = plt.figure(figsize=(9, 6))\n",
    "for i in range(n_vis):\n",
    "    # Original Image\n",
    "    plt.subplot(n_vis, 3, 3*i+1)\n",
    "    plt.imshow(x_test[i].reshape(28, 28), cmap='gray')\n",
    "    plt.title(\"Original\")\n",
    "    plt.axis('off')\n",
    "    \n",
    "    plt.subplot(n_vis, 3, 3*i+2)\n",
    "    plt.imshow(x_test_noised[i].reshape(28, 28), cmap='gray')\n",
    "    p = measure.NpMetrics.psnr(x_test[i], x_test_noised[i], 1.0)\n",
    "    d = measure.NpMetrics.distortion(x_test[i], x_test_noised[i])\n",
    "    plt.title(f\"Noised\\nPSNR: {p.round(3)}\\nDistortion: {d.round(3)}\")\n",
    "    plt.axis('off')\n",
    "    \n",
    "    # Reconst image\n",
    "    plt.subplot(n_vis, 3, 3*i+3)\n",
    "    plt.imshow(recon_test[i].reshape(28, 28), cmap='gray')\n",
    "    p = measure.NpMetrics.psnr(x_test[i], recon_test[i], 1.0)\n",
    "    d = measure.NpMetrics.distortion(x_test[i], recon_test[i])\n",
    "    plt.title(f\"Reconstruct\\nPSNR: {p.round(3)}\\nDistortion: {d.round(3)}\")\n",
    "    plt.axis('off')\n",
    "plt.tight_layout()"
   ]
  },
  {
   "cell_type": "markdown",
   "metadata": {},
   "source": [
    "## ターゲットCNNに対するAdversarial Attack\n",
    "ここでは、実際にFGSMで攻撃するtarget_cnnと、攻撃をしないprune_cnnを定義して、攻撃の転移性を見る。  "
   ]
  },
  {
   "cell_type": "code",
   "execution_count": 7,
   "metadata": {},
   "outputs": [],
   "source": [
    "target_cnn_path = model_dir/\"target_cnn.h5\"\n",
    "\n",
    "if target_cnn_path.exists():\n",
    "    target_cnn = keras.models.load_model(str(target_cnn_path))\n",
    "else:\n",
    "    log_dir = Path('..', 'logs', 'target_cnn')\n",
    "    target_cnn = zoo.CNN(n_convset=2, n_dense=2)\n",
    "    tb = TensorBoard(log_dir=str(log_dir))\n",
    "    target_cnn.compile(optimizer=\"Adam\", loss=\"sparse_categorical_crossentropy\", metrics=[\"acc\"])\n",
    "    target_cnn.fit(x=x_train, y=y_train, epochs=5, validation_data=(x_test, y_test), callbacks=[tb])\n",
    "    target_cnn.save(str(target_cnn_path))"
   ]
  },
  {
   "cell_type": "code",
   "execution_count": 8,
   "metadata": {},
   "outputs": [],
   "source": [
    "prune_cnn_path = model_dir/\"prune_cnn.h5\"\n",
    "\n",
    "if prune_cnn_path.exists():\n",
    "    prune_cnn = keras.models.load_model(str(prune_cnn_path))\n",
    "else:\n",
    "    log_dir = Path('..', 'logs', 'prune_cnn')\n",
    "    prune_cnn = zoo.CNN(n_convset=3, n_dense=2)\n",
    "    tb = TensorBoard(log_dir=str(log_dir))\n",
    "    prune_cnn.compile(optimizer=\"Adam\", loss=\"sparse_categorical_crossentropy\", metrics=[\"acc\"])\n",
    "    prune_cnn.fit(x=x_train, y=y_train, epochs=5, validation_data=(x_test, y_test), callbacks=[tb])\n",
    "    prune_cnn.save(str(prune_cnn_path))"
   ]
  },
  {
   "cell_type": "code",
   "execution_count": 9,
   "metadata": {},
   "outputs": [],
   "source": [
    "# ターゲットCNNをfoolモデルとしてラッピング\n",
    "fmodel = foolbox.models.TensorFlowModel.from_keras(target_cnn, bounds=(0, 1))\n",
    "# 攻撃の評価基準\n",
    "attack_criterion = foolbox.criteria.Misclassification()\n",
    "# 攻撃手法を定義\n",
    "fgsm = foolbox.attacks.FGSM(fmodel, criterion=attack_criterion)"
   ]
  },
  {
   "cell_type": "code",
   "execution_count": 10,
   "metadata": {},
   "outputs": [
    {
     "data": {
      "image/png": "[encoded data removed]",
      "text/plain": [
       "<Figure size 864x432 with 3 Axes>"
      ]
     },
     "metadata": {
      "needs_background": "light"
     },
     "output_type": "display_data"
    }
   ],
   "source": [
    "idx = 0\n",
    "x_adv = fgsm(input_or_adv=x_test[idx], label=y_test[idx], unpack=False)\n",
    "\n",
    "fig = plt.figure(figsize=(12, 6))\n",
    "\n",
    "# オリジナル画像\n",
    "plt.subplot(1, 3, 1)\n",
    "plt.imshow(x_test[idx].reshape(28, 28), cmap='gray')\n",
    "plt.title(f'Original\\n'+\n",
    "           f'Target CNN Predict Class, {target_cnn.predict_classes(x_test[idx].reshape(1, 28, 28, 1))[0]}\\n'+\n",
    "           f'Prune CNN Predict Class, {prune_cnn.predict_classes(x_test[idx].reshape(1, 28, 28, 1))[0]}'\n",
    "          )\n",
    "\n",
    "# FGSM画像\n",
    "plt.subplot(1, 3, 2)\n",
    "plt.imshow(x_adv.image.reshape(28, 28), cmap='gray')\n",
    "plt.title(f'FGSM\\n'+\n",
    "           f'Target CNN Predict Class, {target_cnn.predict_classes(x_adv.image.reshape(1, 28, 28, 1))[0]}\\n'+\n",
    "           f'Prune CNN Predict Class, {prune_cnn.predict_classes(x_adv.image.reshape(1, 28, 28, 1))[0]}'\n",
    "          )\n",
    "\n",
    "# デノイジング画像\n",
    "denoise_adv = dae.predict(x_adv.image.reshape(1, 28, 28, 1))\n",
    "plt.subplot(1, 3, 3)\n",
    "plt.imshow(denoise_adv.reshape(28, 28), cmap='gray')\n",
    "plt.title(f'Denoise\\n'+\n",
    "           f'Target CNN Predict Class, {target_cnn.predict_classes(denoise_adv)[0]}\\n'+\n",
    "           f'Prune CNN Predict Class, {prune_cnn.predict_classes(denoise_adv)[0]}'\n",
    "          )\n",
    "\n",
    "plt.tight_layout()"
   ]
  },
  {
   "cell_type": "markdown",
   "metadata": {},
   "source": [
    "### 注意！！このセルはとても時間がかかります。\n",
    "一つ下のセルに、事前に全テスト画像に対してFGSMを使ってAdversarial Examplesを作成したファイルをロードする処理があるので、そちらで代用できます。"
   ]
  },
  {
   "cell_type": "code",
   "execution_count": 21,
   "metadata": {
    "scrolled": false
   },
   "outputs": [
    {
     "name": "stderr",
     "output_type": "stream",
     "text": [
      "/home/takubuntu/anaconda3/envs/py36/lib/python3.6/site-packages/foolbox/attacks/base.py:148: UserWarning: GradientSignAttack did not find an adversarial, maybe the model or the criterion is not supported by this attack.\n",
      "  ' attack.'.format(self.name()))\n",
      "/home/takubuntu/anaconda3/envs/py36/lib/python3.6/site-packages/foolbox/attacks/base.py:129: UserWarning: Not running the attack because the original input is already misclassified and the adversarial thus has a distance of 0.\n",
      "  warnings.warn('Not running the attack because the original input'\n"
     ]
    },
    {
     "name": "stdout",
     "output_type": "stream",
     "text": [
      "1000 / 10000\n",
      "2000 / 10000\n",
      "3000 / 10000\n",
      "4000 / 10000\n",
      "5000 / 10000\n",
      "6000 / 10000\n",
      "7000 / 10000\n",
      "8000 / 10000\n",
      "9000 / 10000\n",
      "10000 / 10000\n",
      "CPU times: user 2h 56min 16s, sys: 13min 28s, total: 3h 9min 45s\n",
      "Wall time: 2h 2min 57s\n"
     ]
    }
   ],
   "source": [
    "%%time\n",
    "\n",
    "adv_img = []\n",
    "orig_label = []\n",
    "for i, (img, label) in enumerate(zip(x_test, y_test)):\n",
    "    x_adv = fgsm(input_or_adv=img, label=label, unpack=False)\n",
    "    if (i + 1) % 1000 == 0:\n",
    "        print(f'{i+1} / {y_test.shape[0]}')\n",
    "    \n",
    "    if x_adv.image is None:\n",
    "        continue\n",
    "    adv_img.append(x_adv.image)\n",
    "    orig_label.append(y_test)\n",
    "adv_img = np.array(adv_img)\n",
    "orig_label = np.array(orig_label)"
   ]
  },
  {
   "cell_type": "markdown",
   "metadata": {},
   "source": [
    "## 全テスト画像のAdversarial Examplesをロード（作成済み）"
   ]
  },
  {
   "cell_type": "code",
   "execution_count": 74,
   "metadata": {},
   "outputs": [],
   "source": [
    "# # Save Adv Image\n",
    "# data_path = Path('..', 'data')\n",
    "# data_path.mkdir(exist_ok=True)\n",
    "# np.savez(str(data_path/'adv_data.npz'), adv_img=adv_img, label=orig_label)\n",
    "\n",
    "# Load Adv Image\n",
    "advdata = np.load(str(data_path/'adv_data.npz'))\n",
    "adv_img = advdata['adv_img']\n",
    "orig_label = advdata['label']"
   ]
  },
  {
   "cell_type": "markdown",
   "metadata": {},
   "source": [
    "## 全画像に対する損失、精度を表示\n",
    "この時のadv_imgは、target_cnnがもとから誤認識していた画像は含まれていないので、10000画像よりも少しサンプル数が減っています。  \n",
    "\n",
    "\\[Adversarial Examples\\]\n",
    "\n",
    "- TargetCNNの精度は0%になっています。\n",
    "- PruneCNNの精度は81%とクリーン画像の認識率（おそらく95-98%くらいだと思います。）よりは悪くなっています。転移性の確認です。  \n",
    "  \n",
    "\\[デノイジング画像\\]\n",
    "\n",
    "- TargetCNNの精度は81%になりました。（偶然ですが）だいたい↑のPruneCNNのAdversarial Examplesの精度と同じくらいです。0%のときよりは精度は大分よくなっています。\n",
    "- PruneCNNの精度は90%になりました。デノイジングして、精度は81%->90%と上がりましたが。やはり完全にもとの精度に戻るわけには行きませんでした。"
   ]
  },
  {
   "cell_type": "code",
   "execution_count": 91,
   "metadata": {},
   "outputs": [
    {
     "name": "stdout",
     "output_type": "stream",
     "text": [
      "9608/9608 [==============================] - 1s 138us/sample - loss: 1.1142 - acc: 0.0000e+00\n",
      "9608/9608 [==============================] - 1s 146us/sample - loss: 0.5851 - acc: 0.8178\n",
      "9608/9608 [==============================] - 1s 134us/sample - loss: 0.6148 - acc: 0.8114\n",
      "9608/9608 [==============================] - 1s 144us/sample - loss: 0.3458 - acc: 0.9003\n",
      "\n",
      "Target CNN Adversarial Examples, Loss: 1.1142283400131403, Acc: 0.0\n",
      "Prune CNN Adversarial Examples, Loss: 0.5851044790333851, Acc: 0.8180000185966492\n",
      "Target CNN Denoise, Loss: 0.614788044104469, Acc: 0.8114071488380432\n",
      "Prune CNN Denoise, Loss: 0.3457592156848294, Acc: 0.9002914428710938\n"
     ]
    }
   ],
   "source": [
    "denoise_img = dae.predict(adv_img)\n",
    "\n",
    "target_adv_result = target_cnn.evaluate(adv_img, orig_label)\n",
    "prune_adv_result = prune_cnn.evaluate(adv_img, orig_label)\n",
    "target_dae_result = target_cnn.evaluate(denoise_img, orig_label)\n",
    "prune_dae_result = prune_cnn.evaluate(denoise_img, orig_label)\n",
    "\n",
    "print('')\n",
    "print(f'Target CNN Adversarial Examples, Loss: {target_adv_result[0]}, Acc: {target_adv_result[1]}')\n",
    "print(f'Prune CNN Adversarial Examples, Loss: {prune_adv_result[0]}, Acc: {prune_adv_result[1]}')\n",
    "print(f'Target CNN Denoise, Loss: {target_dae_result[0]}, Acc: {target_dae_result[1]}')\n",
    "print(f'Prune CNN Denoise, Loss: {prune_dae_result[0]}, Acc: {prune_dae_result[1]}')"
   ]
  },
  {
   "cell_type": "code",
   "execution_count": null,
   "metadata": {},
   "outputs": [],
   "source": []
  }
 ],
 "metadata": {
  "kernelspec": {
   "display_name": "Python 3",
   "language": "python",
   "name": "python3"
  },
  "language_info": {
   "codemirror_mode": {
    "name": "ipython",
    "version": 3
   },
   "file_extension": ".py",
   "mimetype": "text/x-python",
   "name": "python",
   "nbconvert_exporter": "python",
   "pygments_lexer": "ipython3",
   "version": "3.6.8"
  }
 },
 "nbformat": 4,
 "nbformat_minor": 2
}
