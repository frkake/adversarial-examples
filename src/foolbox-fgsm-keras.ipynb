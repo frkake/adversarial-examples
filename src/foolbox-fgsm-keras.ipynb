{
 "cells": [
  {
   "cell_type": "markdown",
   "metadata": {},
   "source": [
    "# FoolboxをつかったAdversarial Examples"
   ]
  },
  {
   "cell_type": "code",
   "execution_count": 1,
   "metadata": {},
   "outputs": [
    {
     "name": "stderr",
     "output_type": "stream",
     "text": [
      "Using TensorFlow backend.\n"
     ]
    }
   ],
   "source": [
    "import numpy as np\n",
    "import matplotlib.pyplot as plt\n",
    "from pathlib import Path\n",
    "\n",
    "import tensorflow as tf\n",
    "from tensorflow import keras\n",
    "from tensorflow.keras.datasets import mnist\n",
    "from tensorflow.keras.models import load_model\n",
    "from tensorflow.keras.callbacks import TensorBoard\n",
    "from tensorflow.keras.utils import to_categorical\n",
    "\n",
    "import model_make as mm"
   ]
  },
  {
   "cell_type": "code",
   "execution_count": 2,
   "metadata": {},
   "outputs": [],
   "source": [
    "import foolbox\n",
    "from foolbox.models import KerasModel"
   ]
  },
  {
   "cell_type": "code",
   "execution_count": 3,
   "metadata": {},
   "outputs": [],
   "source": [
    "(x_train, y_train), (x_test, y_test) = mnist.load_data()\n",
    "x_train = x_train.reshape(-1, 28, 28, 1) / 255.\n",
    "x_test = x_test.reshape(-1, 28, 28, 1) / 255.\n",
    "# y_train = to_categorical(y_train, 10)\n",
    "# y_test = to_categorical(y_test, 10)"
   ]
  },
  {
   "cell_type": "code",
   "execution_count": 4,
   "metadata": {},
   "outputs": [
    {
     "name": "stdout",
     "output_type": "stream",
     "text": [
      "WARNING:tensorflow:From /home/takubuntu/.pyenv/versions/anaconda3-4.4.0/envs/py36/lib/python3.6/site-packages/tensorflow/python/ops/resource_variable_ops.py:435: colocate_with (from tensorflow.python.framework.ops) is deprecated and will be removed in a future version.\n",
      "Instructions for updating:\n",
      "Colocations handled automatically by placer.\n"
     ]
    }
   ],
   "source": [
    "# 攻撃対象のCNNの保存先 or 読み込み先\n",
    "model_path = Path(\"..\", \"model_dir\")\n",
    "model_path.mkdir(exist_ok=True)\n",
    "model_path /= \"CNN.h5\"\n",
    "\n",
    "# 学習済みのCNNがあればロード、なければ作成\n",
    "if model_path.exists():\n",
    "    model = load_model(str(model_path))\n",
    "else:\n",
    "    log_dir = Path('..', 'logs')\n",
    "    model = mm.CNN(input_shape=(28, 28, 1)) # MNIST用\n",
    "    tb = TensorBoard(log_dir=str(log_dir))\n",
    "    model.compile(optimizer=\"Adam\", loss=\"sparse_categorical_crossentropy\", metrics=[\"acc\"])\n",
    "    model.fit(x=x_train, y=y_train, epochs=5, validation_data=(x_test, y_test), callbacks=[tb])\n",
    "    model.save(str(model_path))"
   ]
  },
  {
   "cell_type": "code",
   "execution_count": 5,
   "metadata": {},
   "outputs": [],
   "source": [
    "fmodel = foolbox.models.TensorFlowModel.from_keras(model, bounds=(0, 255))"
   ]
  },
  {
   "cell_type": "code",
   "execution_count": 6,
   "metadata": {},
   "outputs": [],
   "source": [
    "attack_criterion = foolbox.criteria.Misclassification()\n",
    "distance = foolbox.distances.Linfinity # 摂動距離 L-∞ norm"
   ]
  },
  {
   "cell_type": "code",
   "execution_count": 7,
   "metadata": {},
   "outputs": [],
   "source": [
    "attack = foolbox.attacks.FGSM(fmodel, criterion=attack_criterion, distance=distance)"
   ]
  },
  {
   "cell_type": "code",
   "execution_count": 8,
   "metadata": {},
   "outputs": [],
   "source": [
    "idx = 0\n",
    "x_adv = attack(input_or_adv=x_test[idx], label=y_test[idx], unpack=False)"
   ]
  },
  {
   "cell_type": "code",
   "execution_count": 9,
   "metadata": {},
   "outputs": [
    {
     "name": "stderr",
     "output_type": "stream",
     "text": [
      "/home/takubuntu/.pyenv/versions/anaconda3-4.4.0/envs/py36/lib/python3.6/site-packages/matplotlib/figure.py:98: MatplotlibDeprecationWarning: \n",
      "Adding an axes using the same arguments as a previous axes currently reuses the earlier instance.  In a future version, a new instance will always be created and returned.  Meanwhile, this warning can be suppressed, and the future behavior ensured, by passing a unique label to each axes instance.\n",
      "  \"Adding an axes using the same arguments as a previous axes \"\n"
     ]
    },
    {
     "data": {
      "image/png": "[encoded data removed]",
      "text/plain": [
       "<Figure size 432x864 with 2 Axes>"
      ]
     },
     "metadata": {
      "needs_background": "light"
     },
     "output_type": "display_data"
    }
   ],
   "source": [
    "fig = plt.figure(figsize=(6, 12))\n",
    "\n",
    "for i in range(2):\n",
    "    plt.subplot(1, 2, 1)\n",
    "    plt.imshow(np.squeeze(x_test[idx]), cmap='gray')\n",
    "    plt.title(np.argmax(model.predict(x_test[idx].reshape(-1, 28, 28, 1))), fontsize=20) # 通常画像の結果\n",
    "    \n",
    "    plt.subplot(1, 2, 2)\n",
    "    plt.imshow(np.squeeze(x_adv.image), cmap='gray')\n",
    "    plt.title(np.argmax(model.predict(x_adv.image.reshape(-1, 28, 28, 1))), fontsize=20)"
   ]
  },
  {
   "cell_type": "code",
   "execution_count": null,
   "metadata": {},
   "outputs": [],
   "source": []
  }
 ],
 "metadata": {
  "kernelspec": {
   "display_name": "Python 3",
   "language": "python",
   "name": "python3"
  },
  "language_info": {
   "codemirror_mode": {
    "name": "ipython",
    "version": 3
   },
   "file_extension": ".py",
   "mimetype": "text/x-python",
   "name": "python",
   "nbconvert_exporter": "python",
   "pygments_lexer": "ipython3",
   "version": "3.6.8"
  }
 },
 "nbformat": 4,
 "nbformat_minor": 2
}
